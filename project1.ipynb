{
 "cells": [
  {
   "cell_type": "code",
   "execution_count": 8,
   "id": "a84aa426-790a-4fab-a78c-d41086326fd8",
   "metadata": {},
   "outputs": [],
   "source": [
    "import os\n",
    "import pandas as pd\n",
    "import numpy as np"
   ]
  },
  {
   "cell_type": "code",
   "execution_count": 9,
   "id": "3dc713d2",
   "metadata": {},
   "outputs": [
    {
     "name": "stdout",
     "output_type": "stream",
     "text": [
      "<class 'pandas.core.frame.DataFrame'>\n",
      "RangeIndex: 759338 entries, 0 to 759337\n",
      "Data columns (total 72 columns):\n",
      " #   Column                       Non-Null Count   Dtype  \n",
      "---  ------                       --------------   -----  \n",
      " 0   id                           759338 non-null  int64  \n",
      " 1   member_id                    0 non-null       float64\n",
      " 2   loan_amnt                    759338 non-null  int64  \n",
      " 3   funded_amnt                  759338 non-null  int64  \n",
      " 4   funded_amnt_inv              759338 non-null  float64\n",
      " 5   term                         759338 non-null  object \n",
      " 6   int_rate                     759338 non-null  float64\n",
      " 7   installment                  759338 non-null  float64\n",
      " 8   grade                        759338 non-null  object \n",
      " 9   sub_grade                    759338 non-null  object \n",
      " 10  emp_title                    708368 non-null  object \n",
      " 11  emp_length                   708975 non-null  object \n",
      " 12  home_ownership               759338 non-null  object \n",
      " 13  annual_inc                   759338 non-null  float64\n",
      " 14  verification_status          759338 non-null  object \n",
      " 15  issue_d                      759338 non-null  object \n",
      " 16  loan_status                  759338 non-null  object \n",
      " 17  pymnt_plan                   759338 non-null  object \n",
      " 18  desc                         17 non-null      object \n",
      " 19  purpose                      759338 non-null  object \n",
      " 20  title                        736165 non-null  object \n",
      " 21  zip_code                     759337 non-null  object \n",
      " 22  addr_state                   759338 non-null  object \n",
      " 23  dti                          758983 non-null  float64\n",
      " 24  delinq_2yrs                  759338 non-null  int64  \n",
      " 25  earliest_cr_line             759338 non-null  object \n",
      " 26  inq_last_6mths               759337 non-null  float64\n",
      " 27  mths_since_last_delinq       396633 non-null  float64\n",
      " 28  mths_since_last_record       141179 non-null  float64\n",
      " 29  open_acc                     759338 non-null  int64  \n",
      " 30  pub_rec                      759338 non-null  int64  \n",
      " 31  revol_bal                    759338 non-null  float64\n",
      " 32  revol_util                   758821 non-null  float64\n",
      " 33  total_acc                    759338 non-null  int64  \n",
      " 34  initial_list_status          759338 non-null  object \n",
      " 35  out_prncp                    759338 non-null  float64\n",
      " 36  out_prncp_inv                759338 non-null  float64\n",
      " 37  total_pymnt                  759338 non-null  float64\n",
      " 38  total_pymnt_inv              759338 non-null  float64\n",
      " 39  total_rec_prncp              759338 non-null  float64\n",
      " 40  total_rec_int                759338 non-null  float64\n",
      " 41  total_rec_late_fee           759338 non-null  float64\n",
      " 42  recoveries                   759338 non-null  float64\n",
      " 43  collection_recovery_fee      759338 non-null  float64\n",
      " 44  last_pymnt_d                 758390 non-null  object \n",
      " 45  last_pymnt_amnt              759338 non-null  float64\n",
      " 46  next_pymnt_d                 591423 non-null  object \n",
      " 47  last_credit_pull_d           759320 non-null  object \n",
      " 48  collections_12_mths_ex_med   759338 non-null  int64  \n",
      " 49  mths_since_last_major_derog  215105 non-null  float64\n",
      " 50  policy_code                  759338 non-null  int64  \n",
      " 51  application_type             759338 non-null  object \n",
      " 52  annual_inc_joint             34003 non-null   float64\n",
      " 53  dti_joint                    34001 non-null   float64\n",
      " 54  verification_status_joint    34003 non-null   object \n",
      " 55  acc_now_delinq               759338 non-null  int64  \n",
      " 56  tot_coll_amt                 759338 non-null  float64\n",
      " 57  tot_cur_bal                  759338 non-null  float64\n",
      " 58  open_acc_6m                  759276 non-null  float64\n",
      " 59  open_il_12m                  759277 non-null  float64\n",
      " 60  open_il_24m                  759277 non-null  float64\n",
      " 61  mths_since_rcnt_il           738795 non-null  float64\n",
      " 62  total_bal_il                 759277 non-null  float64\n",
      " 63  il_util                      658743 non-null  float64\n",
      " 64  open_rv_12m                  759277 non-null  float64\n",
      " 65  open_rv_24m                  759277 non-null  float64\n",
      " 66  max_bal_bc                   759277 non-null  float64\n",
      " 67  all_util                     759224 non-null  float64\n",
      " 68  total_rev_hi_lim             759338 non-null  float64\n",
      " 69  inq_fi                       759277 non-null  float64\n",
      " 70  total_cu_tl                  759276 non-null  float64\n",
      " 71  inq_last_12m                 759276 non-null  float64\n",
      "dtypes: float64(40), int64(10), object(22)\n",
      "memory usage: 417.1+ MB\n"
     ]
    }
   ],
   "source": [
    "csv_path= os.path.join(\"Resources/lc_2016_2017.csv\")\n",
    "lending_club_data = pd.read_csv(csv_path, low_memory=False)\n",
    "\n",
    "lending_club_data.info()"
   ]
  }
 ],
 "metadata": {
  "kernelspec": {
   "display_name": "Python 3",
   "language": "python",
   "name": "python3"
  },
  "language_info": {
   "codemirror_mode": {
    "name": "ipython",
    "version": 3
   },
   "file_extension": ".py",
   "mimetype": "text/x-python",
   "name": "python",
   "nbconvert_exporter": "python",
   "pygments_lexer": "ipython3",
   "version": "3.12.2"
  }
 },
 "nbformat": 4,
 "nbformat_minor": 5
}
