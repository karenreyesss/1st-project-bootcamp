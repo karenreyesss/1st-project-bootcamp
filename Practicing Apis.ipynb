{
 "cells": [
  {
   "cell_type": "code",
   "execution_count": null,
   "id": "79b33517-c407-494c-b1c9-1b514cb246b0",
   "metadata": {},
   "outputs": [],
   "source": [
    "import requests\n",
    "import json\n",
    "\n",
    "# import the api key\n",
    "from config import geopify_key"
   ]
  },
  {
   "cell_type": "code",
   "execution_count": null,
   "id": "6f511d7b-9664-4a0c-adc2-0f79848d4b26",
   "metadata": {},
   "outputs": [],
   "source": [
    "from config import geopify_key"
   ]
  },
  {
   "cell_type": "code",
   "execution_count": null,
   "id": "e279c88d-5ea2-4abf-a22e-5d8fdcedbaf9",
   "metadata": {},
   "outputs": [],
   "source": [
    "#Target City\n",
    "\n",
    "target_city = f\"https://api.geoapify.com/v1/geocode/search?text=Berlin&lang=en&limit=10&type=city&apiKey=YOUR_API_KEY\"\n",
    "\n",
    "\n",
    "url= \"\""
   ]
  }
 ],
 "metadata": {
  "kernelspec": {
   "display_name": "Python 3 (ipykernel)",
   "language": "python",
   "name": "python3"
  },
  "language_info": {
   "codemirror_mode": {
    "name": "ipython",
    "version": 3
   },
   "file_extension": ".py",
   "mimetype": "text/x-python",
   "name": "python",
   "nbconvert_exporter": "python",
   "pygments_lexer": "ipython3",
   "version": "3.12.2"
  }
 },
 "nbformat": 4,
 "nbformat_minor": 5
}
